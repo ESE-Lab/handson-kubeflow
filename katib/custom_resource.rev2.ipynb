{
 "cells": [
  {
   "cell_type": "code",
   "execution_count": null,
   "metadata": {},
   "outputs": [],
   "source": [
    "from kubernetes import client, config\n",
    "import yaml\n",
    "\n",
    "def main():\n",
    "    # Configs can be set in Configuration class directly or using helper\n",
    "    # utility. If no argument provided, the config will be loaded from\n",
    "    # default location.\n",
    "    configuration = kubernetes.client.Configuration()\n",
    "    api_instance = client.CustomObjectsApi()\n",
    "\n",
    "    with open(\"random-example.txt\") as f:\n",
    "        dep = yaml.safe_load(f)\n",
    "\n",
    "        group = 'kubeflow.org' # str | The custom resource's group name\n",
    "        version = 'v1alpha3' # str | The custom resource's version\n",
    "        namespace = 'kubeflow' # str | The custom resource's namespace\n",
    "        plural = \"experiments\"\n",
    "\n",
    "        api_instance.create_namespaced_custom_object(group=group, plural=plural, version=version, namespace=namespace, body=dep)\n",
    "\n",
    "\n",
    "if __name__ == '__main__':\n",
    "    main()"
   ]
  }
 ],
 "metadata": {
  "kernelspec": {
   "display_name": "Python 3",
   "language": "python",
   "name": "python3"
  },
  "language_info": {
   "codemirror_mode": {
    "name": "ipython",
    "version": 3
   },
   "file_extension": ".py",
   "mimetype": "text/x-python",
   "name": "python",
   "nbconvert_exporter": "python",
   "pygments_lexer": "ipython3",
   "version": "3.6.8"
  }
 },
 "nbformat": 4,
 "nbformat_minor": 4
}
